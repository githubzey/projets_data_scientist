{
 "cells": [
  {
   "cell_type": "markdown",
   "id": "56104163",
   "metadata": {},
   "source": [
    "<div style=\"display: flex; background-color:rgb(214, 234, 248 );\" >\n",
    "<h1 style=\"text-align: center;margin: auto; padding: 40px; \"> Segmentez des clients d'un site e-commerce\n",
    "    Projet 5 Notebook Maintenance</h1>\n",
    "    <p >  Zeynep Erdem \n",
    "      \n",
    "</p>\n",
    "      \n",
    "  \n",
    "</div>"
   ]
  },
  {
   "cell_type": "code",
   "execution_count": 1,
   "id": "26f3330c",
   "metadata": {
    "pycharm": {
     "name": "#%%\n"
    }
   },
   "outputs": [],
   "source": [
    "import pandas as pd\n",
    "import numpy as np\n",
    "import matplotlib.pyplot as plt\n",
    "import seaborn as sns\n",
    "from sklearn.cluster import KMeans\n",
    "from sklearn.preprocessing import StandardScaler\n",
    "from sklearn.metrics import adjusted_rand_score\n",
    "from sklearn import decomposition\n",
    "import warnings\n",
    "warnings.filterwarnings(\"ignore\")"
   ]
  },
  {
   "cell_type": "code",
   "execution_count": 2,
   "id": "4a0d4334",
   "metadata": {
    "pycharm": {
     "name": "#%%\n"
    }
   },
   "outputs": [
    {
     "data": {
      "text/html": [
       "<div>\n",
       "<style scoped>\n",
       "    .dataframe tbody tr th:only-of-type {\n",
       "        vertical-align: middle;\n",
       "    }\n",
       "\n",
       "    .dataframe tbody tr th {\n",
       "        vertical-align: top;\n",
       "    }\n",
       "\n",
       "    .dataframe thead th {\n",
       "        text-align: right;\n",
       "    }\n",
       "</style>\n",
       "<table border=\"1\" class=\"dataframe\">\n",
       "  <thead>\n",
       "    <tr style=\"text-align: right;\">\n",
       "      <th></th>\n",
       "      <th>customer_unique_id</th>\n",
       "      <th>Recency</th>\n",
       "      <th>Frequency</th>\n",
       "      <th>MonetaryValue</th>\n",
       "      <th>review_mean</th>\n",
       "      <th>deliver_duration_mean</th>\n",
       "      <th>last_order_purchase_timestamp</th>\n",
       "      <th>customer_lat</th>\n",
       "      <th>customer_lng</th>\n",
       "    </tr>\n",
       "  </thead>\n",
       "  <tbody>\n",
       "    <tr>\n",
       "      <th>0</th>\n",
       "      <td>0000366f3b9a7992bf8c76cfdf3221e2</td>\n",
       "      <td>160</td>\n",
       "      <td>1</td>\n",
       "      <td>141.90</td>\n",
       "      <td>5.0</td>\n",
       "      <td>6.0</td>\n",
       "      <td>2018-05-10 10:56:27</td>\n",
       "      <td>-23.335331</td>\n",
       "      <td>-46.828647</td>\n",
       "    </tr>\n",
       "    <tr>\n",
       "      <th>1</th>\n",
       "      <td>0000b849f77a49e4a4ce2b2a4ca5be3f</td>\n",
       "      <td>163</td>\n",
       "      <td>1</td>\n",
       "      <td>27.19</td>\n",
       "      <td>4.0</td>\n",
       "      <td>3.0</td>\n",
       "      <td>2018-05-07 11:11:27</td>\n",
       "      <td>-23.567395</td>\n",
       "      <td>-46.792957</td>\n",
       "    </tr>\n",
       "  </tbody>\n",
       "</table>\n",
       "</div>"
      ],
      "text/plain": [
       "                 customer_unique_id  Recency  Frequency  MonetaryValue  \\\n",
       "0  0000366f3b9a7992bf8c76cfdf3221e2      160          1         141.90   \n",
       "1  0000b849f77a49e4a4ce2b2a4ca5be3f      163          1          27.19   \n",
       "\n",
       "   review_mean  deliver_duration_mean last_order_purchase_timestamp  \\\n",
       "0          5.0                    6.0           2018-05-10 10:56:27   \n",
       "1          4.0                    3.0           2018-05-07 11:11:27   \n",
       "\n",
       "   customer_lat  customer_lng  \n",
       "0    -23.335331    -46.828647  \n",
       "1    -23.567395    -46.792957  "
      ]
     },
     "execution_count": 2,
     "metadata": {},
     "output_type": "execute_result"
    }
   ],
   "source": [
    "# Récupération de nos données :\n",
    "df = pd.read_csv(\"rfm_plus_geo.csv\")\n",
    "df.head(2)"
   ]
  },
  {
   "cell_type": "code",
   "execution_count": 3,
   "id": "e6d09889",
   "metadata": {
    "pycharm": {
     "name": "#%%\n"
    }
   },
   "outputs": [
    {
     "name": "stdout",
     "output_type": "stream",
     "text": [
      "<class 'pandas.core.frame.DataFrame'>\n",
      "RangeIndex: 96095 entries, 0 to 96094\n",
      "Data columns (total 9 columns):\n",
      " #   Column                         Non-Null Count  Dtype         \n",
      "---  ------                         --------------  -----         \n",
      " 0   customer_unique_id             96095 non-null  object        \n",
      " 1   Recency                        96095 non-null  int64         \n",
      " 2   Frequency                      96095 non-null  int64         \n",
      " 3   MonetaryValue                  96095 non-null  float64       \n",
      " 4   review_mean                    96095 non-null  float64       \n",
      " 5   deliver_duration_mean          96095 non-null  float64       \n",
      " 6   last_order_purchase_timestamp  96095 non-null  datetime64[ns]\n",
      " 7   customer_lat                   95827 non-null  float64       \n",
      " 8   customer_lng                   95827 non-null  float64       \n",
      "dtypes: datetime64[ns](1), float64(5), int64(2), object(1)\n",
      "memory usage: 6.6+ MB\n"
     ]
    }
   ],
   "source": [
    "# On convert le tytpe de la colonne date\n",
    "df[\"last_order_purchase_timestamp\"] = pd.to_datetime(\n",
    "    df[\"last_order_purchase_timestamp\"]\n",
    ")\n",
    "df.info()"
   ]
  },
  {
   "cell_type": "code",
   "execution_count": 4,
   "id": "903019a3",
   "metadata": {
    "pycharm": {
     "name": "#%%\n"
    }
   },
   "outputs": [],
   "source": [
    "first_order = df[\"last_order_purchase_timestamp\"].min()\n",
    "last_order = df[\"last_order_purchase_timestamp\"].max()"
   ]
  },
  {
   "cell_type": "code",
   "execution_count": 5,
   "id": "f8387e56",
   "metadata": {},
   "outputs": [
    {
     "data": {
      "text/plain": [
       "Timestamp('2016-09-04 21:15:19')"
      ]
     },
     "execution_count": 5,
     "metadata": {},
     "output_type": "execute_result"
    }
   ],
   "source": [
    "# La date de premier commande\n",
    "first_order"
   ]
  },
  {
   "cell_type": "code",
   "execution_count": 6,
   "id": "9d99e855",
   "metadata": {},
   "outputs": [
    {
     "data": {
      "text/plain": [
       "Timestamp('2018-10-17 17:30:18')"
      ]
     },
     "execution_count": 6,
     "metadata": {},
     "output_type": "execute_result"
    }
   ],
   "source": [
    "# La date de dernier commande\n",
    "last_order"
   ]
  },
  {
   "cell_type": "markdown",
   "id": "3d289201",
   "metadata": {},
   "source": [
    "On va choisir les données de 2017-06-04 à 2018-03-04 pendant 9 mois pour entrainer notre modèle zéro Kmeans de 6 clusters. On standardise nos données. Après on définit les données de 20 jours intervalles jusqu'à la date de dernier commande. On fait les prédictions pour les deux modèles et on va comparer les résultats avec ARI score. "
   ]
  },
  {
   "cell_type": "markdown",
   "id": "38facc3f",
   "metadata": {},
   "source": [
    "Le terme \"ARI score\" est souvent utilisé pour faire référence à l'Adjusted Rand Index (indice de Rand ajusté en français). L'ARI est souvent utilisé pour évaluer la qualité des résultats de clustering, en comparant les résultats obtenus par un algorithme avec une partition de référence (généralement une vérité de terrain ou des étiquettes connues). Cela permet de mesurer à quel point les clusters ou les groupes identifiés par l'algorithme correspondent aux groupes réels.\n",
    "Il fournit une valeur entre -1 et 1, où -1 indique une absence totale de similarité, 0 indique une similarité aléatoire et 1 indique une similarité parfaite.\n",
    "Un score ARI élevé indique que les deux partitions sont en accord étroit, tandis qu'un score proche de zéro indique une similarité aléatoire. Un score négatif signifie que les deux partitions sont en désaccord."
   ]
  },
  {
   "cell_type": "code",
   "execution_count": 7,
   "id": "20f5879f",
   "metadata": {},
   "outputs": [
    {
     "data": {
      "text/html": [
       "<div>\n",
       "<style scoped>\n",
       "    .dataframe tbody tr th:only-of-type {\n",
       "        vertical-align: middle;\n",
       "    }\n",
       "\n",
       "    .dataframe tbody tr th {\n",
       "        vertical-align: top;\n",
       "    }\n",
       "\n",
       "    .dataframe thead th {\n",
       "        text-align: right;\n",
       "    }\n",
       "</style>\n",
       "<table border=\"1\" class=\"dataframe\">\n",
       "  <thead>\n",
       "    <tr style=\"text-align: right;\">\n",
       "      <th></th>\n",
       "      <th>date</th>\n",
       "      <th>ARI</th>\n",
       "    </tr>\n",
       "  </thead>\n",
       "  <tbody>\n",
       "    <tr>\n",
       "      <th>0</th>\n",
       "      <td>0</td>\n",
       "      <td>1.000000</td>\n",
       "    </tr>\n",
       "    <tr>\n",
       "      <th>1</th>\n",
       "      <td>20</td>\n",
       "      <td>0.962759</td>\n",
       "    </tr>\n",
       "    <tr>\n",
       "      <th>2</th>\n",
       "      <td>40</td>\n",
       "      <td>0.942871</td>\n",
       "    </tr>\n",
       "    <tr>\n",
       "      <th>3</th>\n",
       "      <td>60</td>\n",
       "      <td>0.934010</td>\n",
       "    </tr>\n",
       "    <tr>\n",
       "      <th>4</th>\n",
       "      <td>80</td>\n",
       "      <td>0.868016</td>\n",
       "    </tr>\n",
       "    <tr>\n",
       "      <th>5</th>\n",
       "      <td>100</td>\n",
       "      <td>0.884526</td>\n",
       "    </tr>\n",
       "    <tr>\n",
       "      <th>6</th>\n",
       "      <td>120</td>\n",
       "      <td>0.903044</td>\n",
       "    </tr>\n",
       "    <tr>\n",
       "      <th>7</th>\n",
       "      <td>140</td>\n",
       "      <td>0.879170</td>\n",
       "    </tr>\n",
       "    <tr>\n",
       "      <th>8</th>\n",
       "      <td>160</td>\n",
       "      <td>0.817166</td>\n",
       "    </tr>\n",
       "    <tr>\n",
       "      <th>9</th>\n",
       "      <td>180</td>\n",
       "      <td>0.782489</td>\n",
       "    </tr>\n",
       "    <tr>\n",
       "      <th>10</th>\n",
       "      <td>200</td>\n",
       "      <td>0.782356</td>\n",
       "    </tr>\n",
       "    <tr>\n",
       "      <th>11</th>\n",
       "      <td>220</td>\n",
       "      <td>0.782329</td>\n",
       "    </tr>\n",
       "  </tbody>\n",
       "</table>\n",
       "</div>"
      ],
      "text/plain": [
       "    date       ARI\n",
       "0      0  1.000000\n",
       "1     20  0.962759\n",
       "2     40  0.942871\n",
       "3     60  0.934010\n",
       "4     80  0.868016\n",
       "5    100  0.884526\n",
       "6    120  0.903044\n",
       "7    140  0.879170\n",
       "8    160  0.817166\n",
       "9    180  0.782489\n",
       "10   200  0.782356\n",
       "11   220  0.782329"
      ]
     },
     "execution_count": 7,
     "metadata": {},
     "output_type": "execute_result"
    }
   ],
   "source": [
    "features = [\n",
    "    \"Recency\",\n",
    "    \"Frequency\",\n",
    "    \"MonetaryValue\",\n",
    "    \"review_mean\",\n",
    "    \"deliver_duration_mean\",\n",
    "]\n",
    "# features = ['Recency', 'Frequency', 'MonetaryValue', 'review_mean']\n",
    "# features = ['Recency', 'Frequency', 'MonetaryValue']\n",
    "\n",
    "# Specify the desired dates for the analysis\n",
    "first_date = \"2017-06-04\"\n",
    "second_date = \"2018-03-04\"\n",
    "last_date = \"2018-10-17\"\n",
    "n_clusters = 6\n",
    "# Filter the dataset based on the specified dates\n",
    "df_selected = df[\n",
    "    (df[\"last_order_purchase_timestamp\"] >= first_date)\n",
    "    & (df[\"last_order_purchase_timestamp\"] <= second_date)\n",
    "]\n",
    "\n",
    "# On effectue une segmentation sur l'ensemble de données sélectionné.\n",
    "X = df_selected[features]\n",
    "X_scaled = StandardScaler().fit_transform(X)\n",
    "kmeans_first = KMeans(n_clusters=n_clusters, init=\"k-means++\", random_state=3)\n",
    "kmeans_first.fit(X_scaled)\n",
    "\n",
    "# On Crée une liste pour stocker les valeurs ARI score.\n",
    "ari_score = []\n",
    "\n",
    "# Itérer sur des dates spécifiques.\n",
    "date_range = pd.date_range(start=second_date, end=last_date, freq=\"20D\")\n",
    "for date in date_range:\n",
    "    # Filtrer l'ensemble de données en fonction de la date actuelle.\n",
    "    df_temp = df[\n",
    "        (df[\"last_order_purchase_timestamp\"] <= date)\n",
    "        & (df[\"last_order_purchase_timestamp\"] >= first_date)\n",
    "    ]\n",
    "    # On fait le standardisation\n",
    "    X_temp = df_temp[features]\n",
    "    X_scaled_temp = StandardScaler().fit_transform(X_temp)\n",
    "    # On effectue le clustering :\n",
    "    kmeans = KMeans(n_clusters=n_clusters, init=\"k-means++\", random_state=3)\n",
    "    kmeans.fit(X_scaled_temp)\n",
    "    # On calcule une prédiction sur les données :\n",
    "    labels = kmeans.predict(X_scaled_temp)\n",
    "    labels_true = kmeans_first.predict(X_scaled_temp)\n",
    "    # On calcule l'indice ARI :\n",
    "    ari = adjusted_rand_score(labels_true, labels)\n",
    "    ari_score.append([date, ari])\n",
    "ari_score = pd.DataFrame(ari_score, columns=[\"date\", \"ARI\"])\n",
    "# Calculer la date minimum\n",
    "min_date = ari_score[\"date\"].min()\n",
    "\n",
    "# Convertir la colonne 'date' en type datetime.\n",
    "ari_score[\"date\"] = pd.to_datetime(ari_score[\"date\"])\n",
    "\n",
    "# Convertir la colonne 'date' en nombre de jours.\n",
    "ari_score_days = ari_score.copy()\n",
    "ari_score_days[\"date\"] = (ari_score_days[\"date\"] - min_date).dt.days\n",
    "ari_score_days"
   ]
  },
  {
   "cell_type": "code",
   "execution_count": 8,
   "id": "d157406b",
   "metadata": {},
   "outputs": [
    {
     "data": {
      "image/png": "[encoded data removed]",
      "text/plain": [
       "<Figure size 2000x1000 with 1 Axes>"
      ]
     },
     "metadata": {},
     "output_type": "display_data"
    }
   ],
   "source": [
    "# On affiche le graphique :\n",
    "plt.figure(figsize=(20, 10))\n",
    "sns.lineplot(x=\"date\", y=\"ARI\", data=ari_score_days, label=\"ARI\", marker=\"o\")\n",
    "plt.xlabel(\"Days\")\n",
    "plt.ylabel(\"ARI\")\n",
    "plt.title(\"ARI changement\")\n",
    "plt.show()"
   ]
  },
  {
   "cell_type": "markdown",
   "id": "ead8411d",
   "metadata": {},
   "source": [
    "### D'après les simulations on obtient les résultats moins de 0.80 à partir de 160 jours. Alors on recommande d'une maintenance d'environ 6 mois."
   ]
  }
 ],
 "metadata": {
  "kernelspec": {
   "display_name": "Python 3 (ipykernel)",
   "language": "python",
   "name": "python3"
  },
  "language_info": {
   "codemirror_mode": {
    "name": "ipython",
    "version": 3
   },
   "file_extension": ".py",
   "mimetype": "text/x-python",
   "name": "python",
   "nbconvert_exporter": "python",
   "pygments_lexer": "ipython3",
   "version": "3.9.16"
  }
 },
 "nbformat": 4,
 "nbformat_minor": 5
}
